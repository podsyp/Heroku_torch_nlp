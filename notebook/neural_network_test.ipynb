{
 "cells": [
  {
   "cell_type": "code",
   "execution_count": 1,
   "metadata": {},
   "outputs": [],
   "source": [
    "import json\n",
    "import requests\n",
    "# heroku url\n",
    "heroku_url = 'https://dl4feedback.herokuapp.com/' # change to your app name"
   ]
  },
  {
   "cell_type": "code",
   "execution_count": 2,
   "metadata": {},
   "outputs": [],
   "source": [
    "def get_response(data):\n",
    "    data = json.dumps(data)\n",
    "    send_request = requests.post(heroku_url, data)\n",
    "    print(send_request)\n",
    "    print(send_request.json())"
   ]
  },
  {
   "cell_type": "code",
   "execution_count": 3,
   "metadata": {},
   "outputs": [
    {
     "name": "stdout",
     "output_type": "stream",
     "text": [
      "<Response [200]>\n",
      "{'results': {'decision': 'positive feedback', 'score': 0.79, 'text': 'Hello world, this is amazing movie !'}}\n"
     ]
    }
   ],
   "source": [
    "get_response({\"text\": \"Hello world, this is amazing movie !\"})"
   ]
  },
  {
   "cell_type": "code",
   "execution_count": 6,
   "metadata": {},
   "outputs": [
    {
     "name": "stdout",
     "output_type": "stream",
     "text": [
      "<Response [200]>\n",
      "{'results': {'decision': 'negative feedback', 'score': 0.03, 'text': 'Hello world, this is bad movie !'}}\n"
     ]
    }
   ],
   "source": [
    "get_response({\"text\": \"Hello world, this is bad movie !\"})"
   ]
  },
  {
   "cell_type": "code",
   "execution_count": 4,
   "metadata": {},
   "outputs": [
    {
     "name": "stdout",
     "output_type": "stream",
     "text": [
      "<Response [200]>\n",
      "{'results': {'decision': 'positive feedback', 'score': 1.0, 'text': 'It was a fantastic performance !'}}\n"
     ]
    }
   ],
   "source": [
    "get_response({\"text\": \"It was a fantastic performance !\"})"
   ]
  },
  {
   "cell_type": "code",
   "execution_count": 5,
   "metadata": {},
   "outputs": [
    {
     "name": "stdout",
     "output_type": "stream",
     "text": [
      "<Response [200]>\n",
      "{'results': {'decision': 'negative feedback', 'score': 0.1, 'text': \"I've never watched something as bad\"}}\n"
     ]
    }
   ],
   "source": [
    "get_response({\"text\": \"I\\'ve never watched something as bad\"})"
   ]
  },
  {
   "cell_type": "code",
   "execution_count": null,
   "metadata": {},
   "outputs": [],
   "source": []
  }
 ],
 "metadata": {
  "kernelspec": {
   "display_name": "Python 3",
   "language": "python",
   "name": "python3"
  },
  "language_info": {
   "codemirror_mode": {
    "name": "ipython",
    "version": 3
   },
   "file_extension": ".py",
   "mimetype": "text/x-python",
   "name": "python",
   "nbconvert_exporter": "python",
   "pygments_lexer": "ipython3",
   "version": "3.8.6"
  }
 },
 "nbformat": 4,
 "nbformat_minor": 4
}
